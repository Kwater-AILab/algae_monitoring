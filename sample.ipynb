{
 "cells": [
  {
   "cell_type": "markdown",
   "id": "c0dcff93",
   "metadata": {},
   "source": [
    "<img src=\"data/AI_Lab_logo.jpg\" width=\"100\" align=\"right\"/>\n",
    "\n",
    "# 고해상도 위성영상(Sentinel-2)과 Machine Learning을 활용한 저수지 녹조모니터링\n",
    "\n",
    "- **K-water연구원 AI연구센터** \n",
    "- 최영돈 책임연구원(choiyd1115@kwater.or.kr), 정지영 책임위원(jyjung@kwater.or.kr), 김성훈 AI연구센터장(sunghoonkim@kwater.or.kr)"
   ]
  },
  {
   "cell_type": "markdown",
   "id": "68ad20cd",
   "metadata": {},
   "source": [
    "## 1. 추진배경 및 목적\n",
    "\n",
    "- 기후변화에 따른 기온의 지속적인 상승으로 수체의 녹조증식이 증대\n",
    "\n",
    "\n",
    "- 또한, 매년 저수지에 발생하는 녹조는 시기별 기상여건이나 수체흐름에 따라 발생농도나 위치가 변화됨에 따라\n",
    "\n",
    "\n",
    "- 금번 연구에서는 Sentinel-2 위성과 Machine Learning기술을 활용하여 점단위 모니터링에서 광범위하게 발생하는 녹조를 효율적으로 관리할 수 있는 광역적 모니터링 및 분석 방법론을 제시하고자 함"
   ]
  },
  {
   "cell_type": "markdown",
   "id": "cc682ab2",
   "metadata": {},
   "source": [
    "## 2. 주요 내용\n",
    "\n",
    "- 영주댐은 낙동강 내성천 상류에 위치한 다목적댐으로 2016년 12월 조성되어 '19년 하반기부터 댐안정성 검사를 위하여 담수를 시작함\n",
    "\n",
    "\n",
    "- 담수이후 여름철 공간적인 녹조발생 분포를 모니터링하기 위해 2020년 K-water연구원(수자원환경연구소)에서는 \"선박부착형 센서를 이용해 녹조(Green Algae, Bluegreen, Diatoms와 Cryptophyta)를 측정하고, 동일시간대의 Sentinel-2 위성 분광특성값을 활용하여 Machine Learning모델을 구축, 광역적 녹조발생 특성을 모니터링하기 위한 연구 시행\n",
    "\n",
    "\n",
    "- 선박부착형 센서를 활용한 모니터링 공간적 범위 및 정점조사 지점도\n",
    "  - 면단위조사: 영주댐저수지, 유사조절지\n",
    "  - 정점  조사: 영주댐 호내 5개, 유사조절지 2개 지점"
   ]
  },
  {
   "cell_type": "markdown",
   "id": "44b46a24",
   "metadata": {},
   "source": [
    "<img src=\"data/유역이미지.png\" width=\"500\">"
   ]
  },
  {
   "cell_type": "markdown",
   "id": "ba1bff74",
   "metadata": {},
   "source": [
    "- Sentinel-2 위성 및 분광특성 (시간해상도: 5일주기)\n",
    "  - 면단위조사: 영주댐저수지, 유사조절지\n",
    "  - 정점  조사: 영주댐 호내 5개, 유사조절지 2개 지점"
   ]
  },
  {
   "cell_type": "markdown",
   "id": "01f35a72",
   "metadata": {},
   "source": [
    "<tr>\n",
    "<td> <img src=\"data/sentinel.jpeg\" alt=\"Drawing\" style=\"width: 300px;\"/> </td>\n",
    "<td> <img src=\"data/band.png\" alt=\"Drawing\" style=\"width: 400px;\"/> </td>\n",
    "</tr>"
   ]
  },
  {
   "cell_type": "markdown",
   "id": "902972c5",
   "metadata": {},
   "source": [
    "## 3. 데이터 수집\n",
    "\n",
    "- (선박측정) '20년 2~9월까지 선박부착형 센서를 활용, 조류강별 Chl-a 모니터링 자료 확보\n",
    "  - 측정장비: 수중형 연속조류측정기 (FluoroProbe)"
   ]
  },
  {
   "cell_type": "code",
   "execution_count": null,
   "id": "6cd6a4db",
   "metadata": {},
   "outputs": [],
   "source": [
    "import geopandas\n",
    "import numpy as np\n",
    "import folium\n",
    "\n",
    "yjd_gdf = geopandas.read_file('data/algae_obs.shp')\n",
    "yjd_gdf['lon'] = yjd_gdf.geometry.apply(lambda p: p.x)\n",
    "yjd_gdf['lat'] = yjd_gdf.geometry.apply(lambda p: p.y)\n",
    "\n",
    "lat = yjd_gdf['lat'].mean()\n",
    "lon = yjd_gdf['lon'].mean()\n",
    "\n",
    "m = folium.Map([lat,lon],zoom_start=13)\n",
    "\n",
    "for i in yjd_gdf.index:\n",
    "    sub_lat = yjd_gdf.loc[i,'lat']\n",
    "    sub_lon = yjd_gdf.loc[i,'lon']\n",
    "\n",
    "    if (np.isnan(sub_lat) == False) & (np.isnan(sub_lat) == False) :\n",
    "        folium.CircleMarker([sub_lat,sub_lon], icon_size=(1,1), radius=2, color=\"crimson\", fill=True).add_to(m)\n",
    "m"
   ]
  },
  {
   "cell_type": "markdown",
   "id": "39c2cb23",
   "metadata": {},
   "source": [
    "  - 구름 등 날씨를 고려하여 활용가능성 일자 선정 (기상값은 영주지점 일평균 자료 활용)\n",
    "| 관측일 | 운량, 1/10 | 기온 (섭씨) |\n",
    "| :- | -: | :-: |\n",
    "| '20.02.19 | 6.6| 1.0\n",
    "| '20.08.20 | 2.1 | 26.0\n",
    "| '20.08.25 | 4.1 | 26.7\n",
    "| '20.09.14 | 5.6 | 19.4\n",
    "\n",
    "\n",
    "- (Sentinel-2) 선박측정시 위경도값으로 위성과 밴드값 매칭\n",
    "| 관측일 | '20.02.19 | '20.08.20 | '20.08.25 | '20.09.14 | 합계 |\n",
    "| :- | -: |  -: | -: | -: |:-: |\n",
    "| 자료수 | 2,600| 2,634 | 2,057 | 14 | 7,291"
   ]
  },
  {
   "cell_type": "markdown",
   "id": "9b751e0e",
   "metadata": {},
   "source": [
    "## 4. 분석절차\n",
    "\n",
    "1. Import **pyalgae_ai** Python 라이브러리\n",
    "2. 입력자료를 Pandas로 불러와서 입력자료(Sentinel-2)와 Label자료(Algae Observation Data)를 구분 및 분석\n",
    "3. 위성영상에서 분석할 **열 (Sentinel의 밴드, 온도, 운량 조합)**의 조합을 선택\n",
    "4. algae_monitor 함수를 이용, Machine Learning 실행\n",
    "5. Maching Learning 분석결과 확인\n",
    "6. 결과값에 대한 Performance Test 실행\n",
    "7. 모델 튜닝 (Performance결과에 따라 모델의 적정 파라미터 재산정을 위한 절차)\n",
    "8. 입력(Sentinel-2)와 결과(algae) 관계 Graph 생성\n",
    "9. Training을 통해 개발된 모델을 Pickle(pkl) 파일로 저장 및 활용"
   ]
  },
  {
   "cell_type": "markdown",
   "id": "7b23fb13",
   "metadata": {},
   "source": [
    "### 4-1 Import Python Libraries\n",
    "\n",
    "- 본 pyalgae_ai python 라이브러리는 Sentinel-2 위성과 관측녹조자료의 Machine Learning 분석을 위해 K-water AI연구센터에서 개발"
   ]
  },
  {
   "cell_type": "code",
   "execution_count": null,
   "id": "fec13e94",
   "metadata": {},
   "outputs": [],
   "source": [
    "import pyalgae_ai as AI\n",
    "import matplotlib.pyplot as plt\n",
    "import numpy as np\n",
    "import pandas as pd"
   ]
  },
  {
   "cell_type": "markdown",
   "id": "a141ea0a",
   "metadata": {},
   "source": [
    "### 4.2 Sentinel-2와 Algae Observation 자료의 구분 및 분석"
   ]
  },
  {
   "cell_type": "markdown",
   "id": "3bbdb026",
   "metadata": {},
   "source": [
    "#### Sentinel-2 자료와 Algae 관측자료가 정리된 CSV 파일 지정 (Directory가 다를 경우, Directory도 포함필요)"
   ]
  },
  {
   "cell_type": "markdown",
   "id": "984467fb",
   "metadata": {},
   "source": [
    "<img src=\"data/입력포맷.png\" width=\"800\">"
   ]
  },
  {
   "cell_type": "code",
   "execution_count": null,
   "id": "9c153211",
   "metadata": {},
   "outputs": [],
   "source": [
    "raw_obs = \"data/20220224_sentinels_and_algae_obs.csv\""
   ]
  },
  {
   "cell_type": "markdown",
   "id": "7820152c",
   "metadata": {},
   "source": [
    "#### Machine Learning 클래스를 활용하여 algae Object 생성\n",
    "\n",
    " - Machine Learning 클래스의 첫번째 파라미터는 CSV 파일을 지정, \n",
    " \n",
    " - 두번째 파라미터는 G열(6번) ~ T열(20번)까지 input_sentinel(입력값), B열(1번) ~ F열(6번)까지 label_algae(라벨)로 지정"
   ]
  },
  {
   "cell_type": "code",
   "execution_count": null,
   "id": "8b3fee34",
   "metadata": {},
   "outputs": [],
   "source": [
    "algae = AI.Machine_Learning(raw_obs, [1,6,20])\n",
    "input_sentinel, label_algae = algae.preprocessing()"
   ]
  },
  {
   "cell_type": "markdown",
   "id": "71acd228",
   "metadata": {},
   "source": [
    "####  < 입력값 확인 >"
   ]
  },
  {
   "cell_type": "code",
   "execution_count": null,
   "id": "6905a5d1",
   "metadata": {},
   "outputs": [],
   "source": [
    "input_sentinel"
   ]
  },
  {
   "cell_type": "markdown",
   "id": "6ac5c297",
   "metadata": {},
   "source": [
    "####  < 라벨값 확인 >"
   ]
  },
  {
   "cell_type": "code",
   "execution_count": null,
   "id": "251397ae",
   "metadata": {},
   "outputs": [],
   "source": [
    "label_algae"
   ]
  },
  {
   "cell_type": "markdown",
   "id": "cd087ad0",
   "metadata": {},
   "source": [
    "#### Sentinel-2와 Algae Observation 상관관계 분석"
   ]
  },
  {
   "cell_type": "code",
   "execution_count": null,
   "id": "6ce644d5",
   "metadata": {},
   "outputs": [],
   "source": [
    "pair_plot1 = pd.concat([label_algae, input_sentinel[list(input_sentinel)[0:3]]], axis=1)\n",
    "pair_plot2 = pd.concat([label_algae, input_sentinel[list(input_sentinel)[3:6]]], axis=1)\n",
    "pair_plot3 = pd.concat([label_algae, input_sentinel[list(input_sentinel)[6:9]]], axis=1)\n",
    "pair_plot4 = pd.concat([label_algae, input_sentinel[list(input_sentinel)[9:12]]], axis=1)"
   ]
  },
  {
   "cell_type": "code",
   "execution_count": null,
   "id": "118e6a44",
   "metadata": {},
   "outputs": [],
   "source": [
    "import seaborn as sns\n",
    "from matplotlib import pyplot as plt\n",
    "plot1 = sns.pairplot(pair_plot1, corner=True)\n",
    "plot1.fig.suptitle(\" The correlation between Algae Observation (1.total_chla, 2.Green_Algae, 3.Bluegreen, 4.Diatoms, 5.Cryptophyta) VS Sentinel-2 (B1, B2, B3) \", size = 18)\n",
    "plt.show()"
   ]
  },
  {
   "cell_type": "code",
   "execution_count": null,
   "id": "1e3fa4b5",
   "metadata": {},
   "outputs": [],
   "source": [
    "plot2 = sns.pairplot(pair_plot2, corner=True)\n",
    "plot2.fig.suptitle(\" The correlation between Algae Observation (1.total_chla, 2.Green_Algae, 3.Bluegreen, 4.Diatoms, 5.Cryptophyta) VS Sentinel-2 (B4, B5, B6) \", size = 18)\n",
    "plt.show()"
   ]
  },
  {
   "cell_type": "code",
   "execution_count": null,
   "id": "2f13b683",
   "metadata": {},
   "outputs": [],
   "source": [
    "plot3 = sns.pairplot(pair_plot3, corner=True)\n",
    "plot3.fig.suptitle(\" The correlation between Algae Observation (1.total_chla, 2.Green_Algae, 3.Bluegreen, 4.Diatoms, 5.Cryptophyta) VS Sentinel-2 (B7, B8, B8A) \", size = 18)\n",
    "plt.show()"
   ]
  },
  {
   "cell_type": "code",
   "execution_count": null,
   "id": "33c8b52f",
   "metadata": {},
   "outputs": [],
   "source": [
    "plot4 =sns.pairplot(pair_plot4, corner=True)\n",
    "plot4.fig.suptitle(\" The correlation between Algae Observation (1.total_chla, 2.Green_Algae, 3.Bluegreen, 4.Diatoms, 5.Cryptophyta) VS Sentinel-2 (B9, B11, B12) \", size = 18)\n",
    "plt.show()"
   ]
  },
  {
   "cell_type": "markdown",
   "id": "28cf6e82",
   "metadata": {},
   "source": [
    "### 4.3 위성영상에서 분석할 **열 (Sentinel의 밴드, 온도, 운량 조합)**의 조합을 선택\n",
    "\n",
    "- 입력값의 전체 Datasets \"['B1 B2 B3 B4 B5 B6 B7 B8 B8A B9 B11 B12 AT CLOUD']\"이 가장 높은 상관관계를 보여줌\n",
    "\n",
    "\n",
    "- 필요시 List의 형태로 아래와 같이 조합을 추가 가능 (아래의 예는 3개의 조합을 선택한 것임)"
   ]
  },
  {
   "cell_type": "code",
   "execution_count": null,
   "id": "c2775e1a",
   "metadata": {},
   "outputs": [],
   "source": [
    "select_columns = [['B1 B2 B3'], ['B1 B2 B3 B4 B5 B6 B7 B8 B8A B9 B11 B12 AT CLOUD'], ['B1 B2 B3 B4 B5 B6 B7 B8 B8A B9 B11 B12']]"
   ]
  },
  {
   "cell_type": "markdown",
   "id": "96ac32fa",
   "metadata": {},
   "source": [
    "### 4.4 algae_monitor 함수를 이용, Machine Learning 실행\n",
    "\n",
    "- input_sentinel, label_algae, select_columns은 앞에서 얻은 값을 입력\n",
    "\n",
    "\n",
    "- model_list는 **\"RF\"** (Random Forest Regression Algorithm), **\"GBR\"** (Gradient Boosting Regression Algorithm), **\"XGB\"** XGBoosting Algorithm 중 선택가능, **본 예제에서는 Random Forest Regression Algorithm 선택**\n",
    "\n",
    "\n",
    "- Traning Data의 크기는 전체데이터의 0.8로 지정, n_estimator=100로 지정(RF의 가지수 지정), random_state=42로 지정(난수발생 고정)\n",
    "\n",
    "\n",
    "- 3개 조합의 Training시행시 약 40초가 소요됨 (1개 조합에 약 13~14초 소요)"
   ]
  },
  {
   "cell_type": "code",
   "execution_count": null,
   "id": "dac3d40f",
   "metadata": {},
   "outputs": [],
   "source": [
    "%%time\n",
    "results = AI.algae_monitor(input_sentinel, label_algae, select_columns, model_list=[\"RF\"], trainSize_rate=0.8, n_estimators=200, random_state=42)"
   ]
  },
  {
   "cell_type": "markdown",
   "id": "ca172952",
   "metadata": {},
   "source": [
    "### 4.5 Maching Learning 결과값 확인\n",
    "\n",
    "- 결과값은 총 15개이며, **[5개의 목표값: 1) total_chla,\t2) Green_Algae,\t3) Bluegreen,\t4) Diatoms,\t5) Cryptophyta]** X **[3개의 입력조합 1) ['B1 B2 B3'], 2) ['B1 B2 B3 B4 B5 B6 B7 B8 B8A B9 B11 B12 AT CLOUD'], 3) ['B1 B2 B3 B4 B5 B6 B7 B8 B8A B9 B11 B12']** 의 갯수임\n",
    "\n",
    "\n",
    "- results[0] : ['B1 B2 B3'] 입력조합의 \"total_chla\" 분석결과, results[1] : ['B1 B2 B3'] 입력조합의 \"Green_Algae\" 분석결과\n",
    "\n",
    "\n",
    "- results[2] : ['B1 B2 B3'] 입력조합의 \"Bluegreen\" 분석결과, results[3] : ['B1 B2 B3'] 입력조합의 \"Diatoms\" 분석결과\n",
    "\n",
    "\n",
    "- results[4] : ['B1 B2 B3'] 입력조합의 \"Cryptophyta\" 분석결과\n",
    "\n",
    "\n",
    "- 그 다음부터 순서대로 results[5] : ['B1 B2 B3 B4 B5 B6 B7 B8 B8A B9 B11 B12 AT CLOUD'] 입력조합의 \"total_chla\" 분석결과 임\n",
    "\n",
    "\n",
    "- 이와 같이 분석결과는 results[0] ~ results[14]까지 얻을 수 있음\n",
    "\n",
    "\n",
    "- 그리고 results[Num]이후 각 결과값은 \"model\", \"X_train\", \"Y_train\", \"X_test\", \"Y_test\", \"Y_train_predict\", \"Y_test_predict\" 7개의 값으로 구성되어 있으며, 각각 results[Num]이후에 results[Num][0]~results[Num][6]으로 값을 얻을 수 있음"
   ]
  },
  {
   "cell_type": "code",
   "execution_count": null,
   "id": "e4d83302",
   "metadata": {},
   "outputs": [],
   "source": [
    "print(len(results), len(results[0]))"
   ]
  },
  {
   "cell_type": "markdown",
   "id": "5ab08708",
   "metadata": {},
   "source": [
    "- ['B1 B2 B3 B4 B5 B6 B7 B8 B8A B9 B11 B12 AT CLOUD']의 model 확인"
   ]
  },
  {
   "cell_type": "code",
   "execution_count": null,
   "id": "778ff869",
   "metadata": {},
   "outputs": [],
   "source": [
    "results[1][0]"
   ]
  },
  {
   "cell_type": "markdown",
   "id": "f7f595a9",
   "metadata": {},
   "source": [
    "- ['B1 B2 B3 B4 B5 B6 B7 B8 B8A B9 B11 B12 AT CLOUD']의 \"Y_test_predict\" 확인"
   ]
  },
  {
   "cell_type": "code",
   "execution_count": null,
   "id": "088786f4",
   "metadata": {},
   "outputs": [],
   "source": [
    "results[1][6]"
   ]
  },
  {
   "cell_type": "markdown",
   "id": "e1cfde7f",
   "metadata": {},
   "source": [
    "### 4.6 결과값에 대한 Performance Test 실행\n",
    "\n",
    "- 본 Performance Test에서는 \"R2\", \"MSE\", \"MAE\", \"RMSE\", \"NSE\", \"KGE\"가 이용가능하며 performance_test 함수에 입력하면 됨"
   ]
  },
  {
   "cell_type": "code",
   "execution_count": null,
   "id": "8a83dccb",
   "metadata": {},
   "outputs": [],
   "source": [
    "# 전체 결과 확인\n",
    "for i in range(len(results)):\n",
    "    score_train, score_test = AI.performance_test(\"NSE\", results[i])\n",
    "    f_result = '\"{}\" and \"{}\"의 결과: score_train={}, score_test={}'.format(' '.join(list(results[i][1])), results[i][2].name, score_train, score_test)\n",
    "    print(f_result)"
   ]
  },
  {
   "cell_type": "code",
   "execution_count": null,
   "id": "8ed81e73",
   "metadata": {},
   "outputs": [],
   "source": [
    "# 가장 좋은 결과\n",
    "score_train, score_test = AI.performance_test(\"NSE\", results[6])\n",
    "score_train, score_test"
   ]
  },
  {
   "cell_type": "markdown",
   "id": "fec5ad9c",
   "metadata": {},
   "source": [
    "### 4.7 모델 튜닝\n",
    "\n",
    "- Performance Test결과가 낮게 나와서 파라미터의 수정이 필요한 경우, 새로운 데이터 및 유사한 자료 포맷의 자료를 본 머신러닝 코드에 적용시 적절한 n_estimators와 max_features값 등의 적용이 필요할 때 모델 튜닝 시행\n",
    "\n",
    "\n",
    "- 본 방법에서는 Grid Search CV 이용"
   ]
  },
  {
   "cell_type": "code",
   "execution_count": null,
   "id": "7ca8754a",
   "metadata": {},
   "outputs": [],
   "source": [
    "from sklearn.model_selection import GridSearchCV"
   ]
  },
  {
   "cell_type": "code",
   "execution_count": null,
   "id": "9a83b7ec",
   "metadata": {},
   "outputs": [],
   "source": [
    "param_grid = [\n",
    "    {'n_estimators':[50, 100, 200], 'max_features':[2, 4, 6, 8]},\n",
    "    {'bootstrap': [False]}\n",
    "]"
   ]
  },
  {
   "cell_type": "code",
   "execution_count": null,
   "id": "32266a33",
   "metadata": {},
   "outputs": [],
   "source": [
    "grid_search = GridSearchCV(results[1][0], param_grid, cv=5, \n",
    "                           scoring='r2',\n",
    "                          return_train_score=True)"
   ]
  },
  {
   "cell_type": "code",
   "execution_count": null,
   "id": "316fe28c",
   "metadata": {},
   "outputs": [],
   "source": [
    "%%time\n",
    "grid_search.fit(results[6][1], results[6][2])"
   ]
  },
  {
   "cell_type": "code",
   "execution_count": null,
   "id": "df47f47d",
   "metadata": {},
   "outputs": [],
   "source": [
    "grid_search.best_params_"
   ]
  },
  {
   "cell_type": "markdown",
   "id": "0de79df6",
   "metadata": {},
   "source": [
    "### 4.8 입력(Sentinel-2)와 결과(algae) 관계 Graph 생성\n",
    "\n",
    "- Performance Test결과에 따라 세번째 파라미터를 \"R2\", \"MSE\", \"MAE\", \"RMSE\", \"NSE\", \"KGE\"와 같이 지정하여 그래프생성"
   ]
  },
  {
   "cell_type": "code",
   "execution_count": null,
   "id": "24543fd9",
   "metadata": {},
   "outputs": [],
   "source": [
    "Y_test = results[6][4]\n",
    "Y_test_predict = results[6][6]"
   ]
  },
  {
   "cell_type": "code",
   "execution_count": null,
   "id": "32a32c37",
   "metadata": {},
   "outputs": [],
   "source": [
    "AI.plotting.linear_regression(Y_test, Y_test_predict, \"NSE\", score_test[0])"
   ]
  },
  {
   "cell_type": "markdown",
   "id": "2cf764a1",
   "metadata": {},
   "source": [
    "### 4.9 Training을 통해 개발된 모델을 Pickle(pkl) 파일로 저장 및 활용\n",
    "\n",
    "-Training된 모델을 활용하여 향후 입력값(위성관측자료)에 따른 녹조를 분석할 경우 모델을 저장한 후 별도의 Training 없이 모델을 불러서 사용가능"
   ]
  },
  {
   "cell_type": "code",
   "execution_count": null,
   "id": "c0ec2b50",
   "metadata": {},
   "outputs": [],
   "source": [
    "import joblib\n",
    "from hydroeval import evaluator, nse, kge"
   ]
  },
  {
   "cell_type": "code",
   "execution_count": null,
   "id": "bc306dc6",
   "metadata": {},
   "outputs": [],
   "source": [
    "joblib.dump(results[6][0], \"rf_model.pkl\")"
   ]
  },
  {
   "cell_type": "code",
   "execution_count": null,
   "id": "2c232087",
   "metadata": {},
   "outputs": [],
   "source": [
    "rf_model_loaded = joblib.load(\"rf_model.pkl\")"
   ]
  },
  {
   "cell_type": "code",
   "execution_count": null,
   "id": "9e15ceb3",
   "metadata": {},
   "outputs": [],
   "source": [
    "Y_test_predict_loaded = rf_model_loaded.predict(results[6][3])\n",
    "Y_test_predict_loaded"
   ]
  },
  {
   "cell_type": "code",
   "execution_count": null,
   "id": "bcee9669",
   "metadata": {},
   "outputs": [],
   "source": [
    "nse_score_test_loaded = evaluator(nse, results[1][4], Y_test_predict_loaded, axis=1)\n",
    "nse_score_test_loaded[0]"
   ]
  },
  {
   "cell_type": "markdown",
   "id": "112f3d79",
   "metadata": {},
   "source": [
    "## 5. 향후 계획\n",
    "\n",
    "\n",
    "### 5.1 Sentinel-2 자료의 Online 취득 및 댐별 관측지점자료 취득 코드 개발"
   ]
  },
  {
   "cell_type": "code",
   "execution_count": null,
   "id": "94fe3dbb",
   "metadata": {},
   "outputs": [],
   "source": [
    "# connect to the API\n",
    "from sentinelsat import SentinelAPI, read_geojson, geojson_to_wkt\n",
    "from datetime import date\n",
    "\n",
    "api = SentinelAPI('lukechoi76', 'bins0418', 'https://apihub.copernicus.eu/apihub')\n",
    "\n",
    "myshpfile = geopandas.read_file('data/YD_Dam_Rect.shp')\n",
    "myshpfile.to_file('YD_Dam_Rect.geojson', driver='GeoJSON')\n",
    "\n",
    "# search by polygon, time, and SciHub query keywords\n",
    "footprint = geojson_to_wkt(read_geojson('YD_Dam_Rect.geojson'))\n",
    "products = api.query(footprint,\n",
    "                     date=('20151219', date(2015, 12, 29)),\n",
    "                     platformname='Sentinel-2')\n",
    "\n",
    "# convert to Pandas DataFrame\n",
    "products_df = api.to_dataframe(products)\n",
    "\n",
    "# sort and limit to first 5 sorted products\n",
    "products_df_sorted = products_df.sort_values(['cloudcoverpercentage', 'ingestiondate'], ascending=[True, True])\n",
    "products_df_sorted = products_df_sorted.head(5)\n",
    "products_df_sorted"
   ]
  },
  {
   "cell_type": "markdown",
   "id": "21cba009",
   "metadata": {},
   "source": [
    "### 5.2 Web App개발을 통한 UI기반 분석환경 제공\n",
    "  \n",
    "### 5.3 타 댐 적용방안 마련"
   ]
  }
 ],
 "metadata": {
  "kernelspec": {
   "display_name": "Python 3 (ipykernel)",
   "language": "python",
   "name": "python3"
  },
  "language_info": {
   "codemirror_mode": {
    "name": "ipython",
    "version": 3
   },
   "file_extension": ".py",
   "mimetype": "text/x-python",
   "name": "python",
   "nbconvert_exporter": "python",
   "pygments_lexer": "ipython3",
   "version": "3.7.12"
  }
 },
 "nbformat": 4,
 "nbformat_minor": 5
}
